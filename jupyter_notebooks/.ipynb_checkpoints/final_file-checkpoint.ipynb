{
 "cells": [
  {
   "cell_type": "code",
   "execution_count": 1,
   "metadata": {},
   "outputs": [
    {
     "name": "stdout",
     "output_type": "stream",
     "text": [
      "['C4-ROBO_2_4_jej2.tif', 'C1-ROBO_2_4_jej2.tif', 'C3-ROBO_2_4_jej2.tif', 'c1z8.tif', 'MAX_C3-ROBO_2_4_jej2.tif', 'c3z8.tif', 'MAX_C4-ROBO_2_4_jej2.tif', 'c2z8.tif', 'MAX_C1-ROBO_2_4_jej2.tif']\n"
     ]
    }
   ],
   "source": [
    "import numpy as np\n",
    "import matplotlib.pyplot as plt\n",
    "import matplotlib.patches as mpatches\n",
    "import os\n",
    "\n",
    "\n",
    "\n",
    "\n",
    "from scipy.ndimage import gaussian_filter\n",
    "from skimage import img_as_float, img_as_uint\n",
    "from skimage.morphology import reconstruction\n",
    "from skimage.filters import threshold_otsu\n",
    "from skimage.segmentation import clear_border\n",
    "from skimage.measure import label, regionprops\n",
    "from skimage.morphology import closing, square\n",
    "from skimage.color import label2rgb\n",
    "from skimage import io\n",
    "\n",
    "cwd = os.getcwd()\n",
    "\n"
   ]
  },
  {
   "cell_type": "code",
   "execution_count": null,
   "metadata": {},
   "outputs": [],
   "source": []
  },
  {
   "cell_type": "code",
   "execution_count": null,
   "metadata": {},
   "outputs": [],
   "source": []
  },
  {
   "cell_type": "code",
   "execution_count": 2,
   "metadata": {},
   "outputs": [
    {
     "name": "stdout",
     "output_type": "stream",
     "text": [
      "2191\n"
     ]
    },
    {
     "name": "stderr",
     "output_type": "stream",
     "text": [
      "/Users/pgb13/anaconda3/lib/python3.6/site-packages/skimage/util/dtype.py:122: UserWarning: Possible precision loss when converting from float64 to uint16\n",
      "  .format(dtypeobj_in, dtypeobj_out))\n"
     ]
    },
    {
     "name": "stdout",
     "output_type": "stream",
     "text": [
      "371\n"
     ]
    },
    {
     "name": "stderr",
     "output_type": "stream",
     "text": [
      "/Users/pgb13/anaconda3/lib/python3.6/site-packages/skimage/io/_io.py:132: UserWarning: /Users/pgb13/Documents/Temporary Image Downloads/RRobo/export/8week_1_label_image.tif is a low contrast image\n",
      "  warn('%s is a low contrast image' % fname)\n"
     ]
    },
    {
     "name": "stdout",
     "output_type": "stream",
     "text": [
      "226\n"
     ]
    },
    {
     "name": "stderr",
     "output_type": "stream",
     "text": [
      "/Users/pgb13/anaconda3/lib/python3.6/site-packages/skimage/io/_io.py:132: UserWarning: /Users/pgb13/Documents/Temporary Image Downloads/RRobo/export/8week_2_bw.tif is a low contrast image\n",
      "  warn('%s is a low contrast image' % fname)\n",
      "/Users/pgb13/anaconda3/lib/python3.6/site-packages/skimage/io/_io.py:132: UserWarning: /Users/pgb13/Documents/Temporary Image Downloads/RRobo/export/8week_2_label_image.tif is a low contrast image\n",
      "  warn('%s is a low contrast image' % fname)\n"
     ]
    }
   ],
   "source": [
    "for i in range(len(channels)):\n",
    "    \n",
    "    channel = img_as_float(io.imread(os.path.join(cwd, '8_week_big', channels[i])))\n",
    "    channel = gaussian_filter(channel, 1)\n",
    "    seed = np.copy(channel)\n",
    "    seed[1:-1, 1:-1] = channel.min()\n",
    "    mask = channel\n",
    "    dilated = reconstruction(seed, mask, method='dilation')\n",
    "    channel = channel - dilated\n",
    "    thresh = threshold_otsu(channel)\n",
    "    bw = closing(channel > thresh, square(3))\n",
    "    cleared = clear_border(bw)\n",
    "    label_image, num_labeled = label(cleared, return_num=True)\n",
    "    for region in regionprops(label_image):\n",
    "        if region.area <=50:\n",
    "            num_labeled -= 1\n",
    "    print(num_labeled)\n",
    "    io.imsave(os.path.join(export, \"8week_\" + str(i) + \"_dilated.tif\"), img_as_uint(dilated))\n",
    "    io.imsave(os.path.join(export, \"8week_\" + str(i) + \"_bw.tif\"), img_as_uint(bw))\n",
    "    io.imsave(os.path.join(export, \"8week_\" + str(i) + \"_label_image.tif\"), img_as_uint(label2rgb(label_image)))\n",
    "    io.imsave(os.path.join(export, \"8week_\" + str(i) + \"_origional.tif\"), img_as_uint(channel))\n",
    "\n"
   ]
  },
  {
   "cell_type": "code",
   "execution_count": 3,
   "metadata": {},
   "outputs": [],
   "source": [
    "del(channel)\n",
    "del(seed)\n",
    "del(mask)\n",
    "del(dilated)\n",
    "del(bw)\n",
    "del(label_image)\n",
    "del(region)"
   ]
  },
  {
   "cell_type": "code",
   "execution_count": 7,
   "metadata": {},
   "outputs": [
    {
     "name": "stdout",
     "output_type": "stream",
     "text": [
      "2191\n"
     ]
    }
   ],
   "source": [
    "channel = img_as_float(io.imread(os.path.join(cwd, '8_week_big', week8[3])))\n",
    "channel = gaussian_filter(channel, 1)\n",
    "seed = np.copy(channel)\n",
    "seed[1:-1, 1:-1] = channel.min()\n",
    "mask = channel\n",
    "dilated = reconstruction(seed, mask, method='dilation')\n",
    "channel = channel - dilated\n",
    "thresh = threshold_otsu(channel)\n",
    "bw = closing(channel > thresh, square(3))\n",
    "cleared = clear_border(bw)\n",
    "label_image, num_labeled = label(cleared, return_num=True)\n",
    "for region in regionprops(label_image):\n",
    "    if region.area <=50:\n",
    "        num_labeled -= 1\n",
    "print(num_labeled)"
   ]
  },
  {
   "cell_type": "code",
   "execution_count": 16,
   "metadata": {},
   "outputs": [
    {
     "name": "stderr",
     "output_type": "stream",
     "text": [
      "/Users/pgb13/anaconda3/lib/python3.6/site-packages/skimage/io/_plugins/matplotlib_plugin.py:51: FutureWarning: Conversion of the second argument of issubdtype from `float` to `np.floating` is deprecated. In future, it will be treated as `np.float64 == np.dtype(float).type`.\n",
      "  out_of_range_float = (np.issubdtype(image.dtype, np.float) and\n",
      "/Users/pgb13/anaconda3/lib/python3.6/site-packages/skimage/io/_plugins/matplotlib_plugin.py:74: UserWarning: Low image data range; displaying image with stretched contrast.\n",
      "  warn(\"Low image data range; displaying image with \"\n",
      "/Users/pgb13/anaconda3/lib/python3.6/site-packages/matplotlib/axes/_base.py:1334: MatplotlibDeprecationWarning: \n",
      "box-forced\n",
      "  \"2.2\", \"box-forced\", obj_type=\"keyword argument\")\n"
     ]
    },
    {
     "data": {
      "text/plain": [
       "\"\\nfig, axes = plt.subplots(ncols=3, figsize=(9, 3), sharex=True, sharey=True)\\nax = axes.ravel()\\n\\nax[0].imshow(image, cmap=plt.cm.gray, interpolation='nearest')\\nax[0].set_title('Overlapping objects')\\nax[1].imshow(-distance, cmap=plt.cm.gray, interpolation='nearest')\\nax[1].set_title('Distances')\\nax[2].imshow(labels, cmap=plt.cm.nipy_spectral, interpolation='nearest')\\nax[2].set_title('Separated objects')\\n\\nfor a in ax:\\n    a.set_axis_off()\\n\\nfig.tight_layout()\\nplt.show()\\n\""
      ]
     },
     "execution_count": 16,
     "metadata": {},
     "output_type": "execute_result"
    },
    {
     "data": {
      "image/png": "[encoded data removed]",
      "text/plain": [
       "<Figure size 432x288 with 2 Axes>"
      ]
     },
     "metadata": {},
     "output_type": "display_data"
    }
   ],
   "source": [
    "import numpy as np\n",
    "import matplotlib.pyplot as plt\n",
    "from scipy import ndimage as ndi\n",
    "\n",
    "from skimage import io\n",
    "from skimage.morphology import watershed\n",
    "from skimage.feature import peak_local_max\n",
    "\n",
    "\n",
    "image = bw\n",
    "\n",
    "distance = ndi.distance_transform_edt(image)\n",
    "\n",
    "local_maxi = peak_local_max(distance, indices=False, footprint=np.ones((15, 15)), labels=image)\n",
    "\n",
    "markers = ndi.label(local_maxi)[0]\n",
    "\n",
    "labels = watershed(-distance, markers, mask=image)\n",
    "io.imshow(labels)\n",
    "\n",
    "'''\n",
    "fig, axes = plt.subplots(ncols=3, figsize=(9, 3), sharex=True, sharey=True)\n",
    "ax = axes.ravel()\n",
    "\n",
    "ax[0].imshow(image, cmap=plt.cm.gray, interpolation='nearest')\n",
    "ax[0].set_title('Overlapping objects')\n",
    "ax[1].imshow(-distance, cmap=plt.cm.gray, interpolation='nearest')\n",
    "ax[1].set_title('Distances')\n",
    "ax[2].imshow(labels, cmap=plt.cm.nipy_spectral, interpolation='nearest')\n",
    "ax[2].set_title('Separated objects')\n",
    "\n",
    "for a in ax:\n",
    "    a.set_axis_off()\n",
    "\n",
    "fig.tight_layout()\n",
    "plt.show()\n",
    "'''"
   ]
  },
  {
   "cell_type": "code",
   "execution_count": 17,
   "metadata": {},
   "outputs": [
    {
     "name": "stderr",
     "output_type": "stream",
     "text": [
      "/Users/pgb13/anaconda3/lib/python3.6/site-packages/skimage/util/dtype.py:122: UserWarning: Possible precision loss when converting from float64 to uint16\n",
      "  .format(dtypeobj_in, dtypeobj_out))\n"
     ]
    }
   ],
   "source": [
    "io.imsave(os.path.join(cwd, 'export', 'ch1_watershed_medfootprint.tif'), img_as_uint(label2rgb(labels)))\n"
   ]
  },
  {
   "cell_type": "code",
   "execution_count": null,
   "metadata": {},
   "outputs": [],
   "source": []
  },
  {
   "cell_type": "code",
   "execution_count": null,
   "metadata": {},
   "outputs": [],
   "source": []
  }
 ],
 "metadata": {
  "kernelspec": {
   "display_name": "Python 3",
   "language": "python",
   "name": "python3"
  },
  "language_info": {
   "codemirror_mode": {
    "name": "ipython",
    "version": 3
   },
   "file_extension": ".py",
   "mimetype": "text/x-python",
   "name": "python",
   "nbconvert_exporter": "python",
   "pygments_lexer": "ipython3",
   "version": "3.7.0"
  }
 },
 "nbformat": 4,
 "nbformat_minor": 2
}
