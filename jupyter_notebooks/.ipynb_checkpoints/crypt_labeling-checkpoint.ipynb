{
 "cells": [
  {
   "cell_type": "code",
   "execution_count": null,
   "metadata": {},
   "outputs": [],
   "source": [
    "import csv\n",
    "import os\n",
    "\n",
    "from skimage import img_as_uint\n",
    "from skimage import io\n",
    "from skimage.filters import threshold_otsu, gaussian\n",
    "from skimage.measure import label, regionprops\n",
    "from skimage.morphology import closing, square, watershed\n",
    "from skimage.feature import peak_local_max\n",
    "from skimage.color import label2rgb\n",
    "from scipy.ndimage import distance_transform_edt\n",
    "\n",
    "\n",
    "\n",
    "def crypt_thresh_label(filepath, threshold_method=threshold_otsu, gaussian_size=2, closing_size=15, local_min=18):\n",
    "    \"\"\"Threshold, watershed, and label crypts\n",
    "    \n",
    "    Parameters:\n",
    "    filepath = string to file\n",
    "    threshold_method = skimage threshold method\n",
    "    \n",
    "    \"\"\"\n",
    "    crypt_image = io.imread(filepath)\n",
    "    crypt_image = gaussian(crypt_image, gaussian_size)\n",
    "    binary = crypt_image > threshold_method(crypt_image)\n",
    "    binary = closing(binary, square(closing_size))\n",
    "    distance = distance_transform_edt(binary)\n",
    "    local_max = peak_local_max(distance, indices=False, min_distance=local_min)\n",
    "    markers = label(local_max)\n",
    "    return watershed(-distance, markers, mask=binary)\n",
    "\n",
    "def save_image_and_csv(labeled_image, path_to_files, save_image=True):\n",
    "    \"\"\"Output labeled image to csv with area and coordinate info\n",
    "    Writes file in path to csv\n",
    "    \n",
    "    Parameters:\n",
    "    labeled_image = skimage np.array that is labeled (i.e.\n",
    "    the image returned from crypt_thresh_label)\n",
    "    path_to_files = name of tif and csv to save (extension is added)\n",
    "    \n",
    "    \"\"\"\n",
    "    csv_path = path_to_files + \".csv\"\n",
    "    if save_image:\n",
    "        tif_path = path_to_files + \".tif\"\n",
    "        io.imsave(tif_path, img_as_uint(label2rgb(labeled_image)), 'tifffile')\n",
    "    \n",
    "    with open(csv_path, 'w', newline='') as write_labels:\n",
    "        write_csv = csv.writer(write_labels, delimiter=',')\n",
    "        write_csv.writerow(('x', 'y', 'area_pixels'))\n",
    "        for region in regionprops(labeled_image):\n",
    "            center = region.centroid\n",
    "            x, y = int(center[0]), int(center[1])\n",
    "            write_csv.writerow((x, y, region.area))\n",
    "    return\n"
   ]
  }
 ],
 "metadata": {
  "kernelspec": {
   "display_name": "Python 3",
   "language": "python",
   "name": "python3"
  },
  "language_info": {
   "codemirror_mode": {
    "name": "ipython",
    "version": 3
   },
   "file_extension": ".py",
   "mimetype": "text/x-python",
   "name": "python",
   "nbconvert_exporter": "python",
   "pygments_lexer": "ipython3",
   "version": "3.6.5"
  }
 },
 "nbformat": 4,
 "nbformat_minor": 2
}
