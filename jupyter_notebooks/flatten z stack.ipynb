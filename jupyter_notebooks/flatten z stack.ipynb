{
 "cells": [
  {
   "cell_type": "code",
   "execution_count": 4,
   "metadata": {},
   "outputs": [
    {
     "name": "stderr",
     "output_type": "stream",
     "text": [
      "/Users/pgb13/anaconda3/lib/python3.6/importlib/_bootstrap.py:219: RuntimeWarning: numpy.dtype size changed, may indicate binary incompatibility. Expected 96, got 88\n",
      "  return f(*args, **kwds)\n"
     ]
    }
   ],
   "source": [
    "import os\n",
    "import numpy as np\n",
    "import skimage\n",
    "from skimage import io\n",
    "\n",
    "cwd = os.getcwd()\n",
    "lbow = os.path.join(cwd, 'LLB')\n",
    "lbowfiles = os.listdir(lbow)\n"
   ]
  },
  {
   "cell_type": "code",
   "execution_count": 78,
   "metadata": {},
   "outputs": [],
   "source": [
    "lbchannels = []\n",
    "for i in range(len(lbowfiles)):\n",
    "     lbchannels.append(io.imread(os.path.join(lbow, lbowfiles[i])))"
   ]
  },
  {
   "cell_type": "code",
   "execution_count": 79,
   "metadata": {},
   "outputs": [
    {
     "name": "stdout",
     "output_type": "stream",
     "text": [
      "uint16\n",
      "0\n"
     ]
    }
   ],
   "source": [
    "print(lbchannels[0].dtype)\n",
    "print(lbchannels[0].min())"
   ]
  },
  {
   "cell_type": "code",
   "execution_count": 80,
   "metadata": {},
   "outputs": [
    {
     "name": "stdout",
     "output_type": "stream",
     "text": [
      "(12, 1997, 1997)\n",
      "uint16\n",
      "(1997, 1997)\n",
      "int32\n",
      "(12, 1997, 1997)\n",
      "uint16\n",
      "(1997, 1997)\n",
      "int32\n",
      "(12, 1997, 1997)\n",
      "uint16\n",
      "(1997, 1997)\n",
      "int32\n"
     ]
    }
   ],
   "source": [
    "for i in range(len(lbchannels)):\n",
    "    print(lbchannels[i].shape)\n",
    "    print(lbchannels[i].dtype)\n",
    "    lbchannels[i] = np.amax(lbchannels[i], axis=0).astype(np.int32)\n",
    "    print(lbchannels[i].shape)\n",
    "    print(lbchannels[i].dtype)"
   ]
  },
  {
   "cell_type": "code",
   "execution_count": 81,
   "metadata": {},
   "outputs": [
    {
     "name": "stdout",
     "output_type": "stream",
     "text": [
      "60885\n",
      "i: 0, j: 1\n",
      "i: 0, j: 2\n",
      "58787\n",
      "43633\n",
      "i: 1, j: 0\n",
      "i: 1, j: 2\n",
      "38533\n",
      "62704\n",
      "i: 2, j: 0\n",
      "i: 2, j: 1\n",
      "60292\n"
     ]
    }
   ],
   "source": [
    "channelscopy = np.copy(lbchannels)\n",
    "\n",
    "for i in range(len(lbchannels)):\n",
    "    print(lbchannels[i].max())\n",
    "    for j in range(len(lbchannels)):\n",
    "        if i != j:\n",
    "            print(f'i: {i}, j: {j}')\n",
    "            lbchannels[i] = np.subtract(lbchannels[i], channelscopy[j])\n",
    "    print(lbchannels[i].max())\n",
    "    lbchannels[i] = lbchannels[i].clip(0)"
   ]
  },
  {
   "cell_type": "code",
   "execution_count": 82,
   "metadata": {},
   "outputs": [
    {
     "data": {
      "text/plain": [
       "array([[180, 290,   0, ..., 135, 223, 316],\n",
       "       [390, 486, 143, ..., 305, 464, 300],\n",
       "       [494, 181, 290, ..., 401, 439, 278],\n",
       "       ...,\n",
       "       [  0,   0, 328, ..., 375, 300, 432],\n",
       "       [  6, 259, 224, ..., 206, 148,   0],\n",
       "       [196, 193,   0, ..., 341,   0, 282]], dtype=int32)"
      ]
     },
     "execution_count": 82,
     "metadata": {},
     "output_type": "execute_result"
    }
   ],
   "source": [
    "lbchannels[0]"
   ]
  },
  {
   "cell_type": "code",
   "execution_count": 83,
   "metadata": {},
   "outputs": [
    {
     "data": {
      "text/plain": [
       "0"
      ]
     },
     "execution_count": 83,
     "metadata": {},
     "output_type": "execute_result"
    }
   ],
   "source": [
    "lbchannels[0].min()"
   ]
  },
  {
   "cell_type": "code",
   "execution_count": 85,
   "metadata": {},
   "outputs": [
    {
     "name": "stderr",
     "output_type": "stream",
     "text": [
      "/Users/pgb13/anaconda3/lib/python3.6/site-packages/skimage/util/dtype.py:118: UserWarning: Possible sign loss when converting negative image of type int32 to positive image of type uint16.\n",
      "  .format(dtypeobj_in, dtypeobj_out))\n",
      "/Users/pgb13/anaconda3/lib/python3.6/site-packages/skimage/util/dtype.py:171: UserWarning: Downcasting int32 to uint16 without scaling because max value 58787 fits in uint16\n",
      "  \"value {} fits in {}\".format(a.dtype, dtype, a.max(), dtype))\n",
      "/Users/pgb13/anaconda3/lib/python3.6/site-packages/skimage/io/_io.py:132: UserWarning: /Users/pgb13/Documents/Temporary Image Downloads/RRobo/LLB/flat_0.tif is a low contrast image\n",
      "  warn('%s is a low contrast image' % fname)\n",
      "/Users/pgb13/anaconda3/lib/python3.6/site-packages/skimage/util/dtype.py:171: UserWarning: Downcasting int32 to uint16 without scaling because max value 38533 fits in uint16\n",
      "  \"value {} fits in {}\".format(a.dtype, dtype, a.max(), dtype))\n",
      "/Users/pgb13/anaconda3/lib/python3.6/site-packages/skimage/io/_io.py:132: UserWarning: /Users/pgb13/Documents/Temporary Image Downloads/RRobo/LLB/flat_1.tif is a low contrast image\n",
      "  warn('%s is a low contrast image' % fname)\n",
      "/Users/pgb13/anaconda3/lib/python3.6/site-packages/skimage/util/dtype.py:171: UserWarning: Downcasting int32 to uint16 without scaling because max value 60292 fits in uint16\n",
      "  \"value {} fits in {}\".format(a.dtype, dtype, a.max(), dtype))\n",
      "/Users/pgb13/anaconda3/lib/python3.6/site-packages/skimage/io/_io.py:132: UserWarning: /Users/pgb13/Documents/Temporary Image Downloads/RRobo/LLB/flat_2.tif is a low contrast image\n",
      "  warn('%s is a low contrast image' % fname)\n"
     ]
    }
   ],
   "source": [
    "for i, channel in enumerate(lbchannels):\n",
    "    io.imsave(os.path.join(lbow, f'flat_{i}.tif'), skimage.img_as_uint(channel))"
   ]
  },
  {
   "cell_type": "code",
   "execution_count": 100,
   "metadata": {},
   "outputs": [],
   "source": [
    "from skimage.filters import threshold_otsu\n",
    "from skimage.morphology import closing, square\n",
    "from skimage.segmentation import clear_border\n",
    "from skimage.measure import label, regionprops\n",
    "from skimage import img_as_uint\n",
    "from skimage.color import label2rgb"
   ]
  },
  {
   "cell_type": "code",
   "execution_count": 101,
   "metadata": {},
   "outputs": [
    {
     "name": "stdout",
     "output_type": "stream",
     "text": [
      "23\n"
     ]
    },
    {
     "name": "stderr",
     "output_type": "stream",
     "text": [
      "/Users/pgb13/anaconda3/lib/python3.6/site-packages/skimage/io/_io.py:132: UserWarning: /Users/pgb13/Documents/Temporary Image Downloads/RRobo/LLB/lb_channel_0_bw.tif is a low contrast image\n",
      "  warn('%s is a low contrast image' % fname)\n",
      "/Users/pgb13/anaconda3/lib/python3.6/site-packages/skimage/util/dtype.py:122: UserWarning: Possible precision loss when converting from float64 to uint16\n",
      "  .format(dtypeobj_in, dtypeobj_out))\n",
      "/Users/pgb13/anaconda3/lib/python3.6/site-packages/skimage/io/_io.py:132: UserWarning: /Users/pgb13/Documents/Temporary Image Downloads/RRobo/LLB/lb_channel_0_label_image.tif is a low contrast image\n",
      "  warn('%s is a low contrast image' % fname)\n",
      "/Users/pgb13/anaconda3/lib/python3.6/site-packages/skimage/util/dtype.py:118: UserWarning: Possible sign loss when converting negative image of type int32 to positive image of type uint16.\n",
      "  .format(dtypeobj_in, dtypeobj_out))\n",
      "/Users/pgb13/anaconda3/lib/python3.6/site-packages/skimage/util/dtype.py:171: UserWarning: Downcasting int32 to uint16 without scaling because max value 58787 fits in uint16\n",
      "  \"value {} fits in {}\".format(a.dtype, dtype, a.max(), dtype))\n",
      "/Users/pgb13/anaconda3/lib/python3.6/site-packages/skimage/io/_io.py:132: UserWarning: /Users/pgb13/Documents/Temporary Image Downloads/RRobo/LLB/lb_channel_0_origional.tif is a low contrast image\n",
      "  warn('%s is a low contrast image' % fname)\n"
     ]
    },
    {
     "name": "stdout",
     "output_type": "stream",
     "text": [
      "9\n"
     ]
    },
    {
     "name": "stderr",
     "output_type": "stream",
     "text": [
      "/Users/pgb13/anaconda3/lib/python3.6/site-packages/skimage/io/_io.py:132: UserWarning: /Users/pgb13/Documents/Temporary Image Downloads/RRobo/LLB/lb_channel_1_bw.tif is a low contrast image\n",
      "  warn('%s is a low contrast image' % fname)\n",
      "/Users/pgb13/anaconda3/lib/python3.6/site-packages/skimage/io/_io.py:132: UserWarning: /Users/pgb13/Documents/Temporary Image Downloads/RRobo/LLB/lb_channel_1_label_image.tif is a low contrast image\n",
      "  warn('%s is a low contrast image' % fname)\n",
      "/Users/pgb13/anaconda3/lib/python3.6/site-packages/skimage/util/dtype.py:171: UserWarning: Downcasting int32 to uint16 without scaling because max value 38533 fits in uint16\n",
      "  \"value {} fits in {}\".format(a.dtype, dtype, a.max(), dtype))\n",
      "/Users/pgb13/anaconda3/lib/python3.6/site-packages/skimage/io/_io.py:132: UserWarning: /Users/pgb13/Documents/Temporary Image Downloads/RRobo/LLB/lb_channel_1_origional.tif is a low contrast image\n",
      "  warn('%s is a low contrast image' % fname)\n"
     ]
    },
    {
     "name": "stdout",
     "output_type": "stream",
     "text": [
      "596\n"
     ]
    },
    {
     "name": "stderr",
     "output_type": "stream",
     "text": [
      "/Users/pgb13/anaconda3/lib/python3.6/site-packages/skimage/util/dtype.py:171: UserWarning: Downcasting int32 to uint16 without scaling because max value 60292 fits in uint16\n",
      "  \"value {} fits in {}\".format(a.dtype, dtype, a.max(), dtype))\n",
      "/Users/pgb13/anaconda3/lib/python3.6/site-packages/skimage/io/_io.py:132: UserWarning: /Users/pgb13/Documents/Temporary Image Downloads/RRobo/LLB/lb_channel_2_origional.tif is a low contrast image\n",
      "  warn('%s is a low contrast image' % fname)\n"
     ]
    }
   ],
   "source": [
    "for i, channel in enumerate(lbchannels):\n",
    "    thresh = threshold_otsu(channel)\n",
    "    bw = closing(channel > thresh, square(3))\n",
    "    cleared = clear_border(bw)\n",
    "    label_image, num_labeled = label(cleared, return_num=True)\n",
    "    for region in regionprops(label_image):\n",
    "        if region.area <=50:\n",
    "            num_labeled -= 1\n",
    "    print(num_labeled)\n",
    "\n",
    "    io.imsave(os.path.join(lbow, \"lb_channel_\" + str(i) + \"_bw.tif\"), img_as_uint(bw))\n",
    "    io.imsave(os.path.join(lbow, \"lb_channel_\" + str(i) + \"_label_image.tif\"), img_as_uint(label2rgb(label_image)))\n",
    "    io.imsave(os.path.join(lbow, \"lb_channel_\" + str(i) + \"_origional.tif\"), img_as_uint(channel))"
   ]
  },
  {
   "cell_type": "code",
   "execution_count": null,
   "metadata": {},
   "outputs": [],
   "source": []
  }
 ],
 "metadata": {
  "kernelspec": {
   "display_name": "Python 3",
   "language": "python",
   "name": "python3"
  },
  "language_info": {
   "codemirror_mode": {
    "name": "ipython",
    "version": 3
   },
   "file_extension": ".py",
   "mimetype": "text/x-python",
   "name": "python",
   "nbconvert_exporter": "python",
   "pygments_lexer": "ipython3",
   "version": "3.6.5"
  }
 },
 "nbformat": 4,
 "nbformat_minor": 2
}
