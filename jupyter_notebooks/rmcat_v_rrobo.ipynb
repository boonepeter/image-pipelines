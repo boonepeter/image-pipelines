{
 "cells": [
  {
   "cell_type": "code",
   "execution_count": 1,
   "metadata": {},
   "outputs": [],
   "source": [
    "import pandas as pd\n",
    "import os\n",
    "import matplotlib.pyplot as plt"
   ]
  },
  {
   "cell_type": "code",
   "execution_count": 2,
   "metadata": {},
   "outputs": [],
   "source": [
    "%matplotlib qt5"
   ]
  },
  {
   "cell_type": "code",
   "execution_count": 3,
   "metadata": {},
   "outputs": [],
   "source": [
    "cwd = os.getcwd()\n",
    "datafiles = os.listdir(os.path.join(cwd, 'data'))"
   ]
  },
  {
   "cell_type": "code",
   "execution_count": 4,
   "metadata": {},
   "outputs": [],
   "source": [
    "fullstats = [i for i in datafiles if i.endswith('total.csv')]"
   ]
  },
  {
   "cell_type": "code",
   "execution_count": null,
   "metadata": {},
   "outputs": [],
   "source": []
  },
  {
   "cell_type": "code",
   "execution_count": 5,
   "metadata": {},
   "outputs": [],
   "source": [
    "df = pd.read_csv(os.path.join(cwd, 'data', fullstats[0]))\n",
    "df['line'] = fullstats[0][:4]\n",
    "df['timepoint'] = fullstats[0][5:6]\n",
    "df['mouse'] = fullstats[0][:12]\n",
    "df['channel'] = fullstats[0][-13:-10]\n",
    "df.drop(columns=['Min', 'Mean', 'Max', ' '], inplace=True)"
   ]
  },
  {
   "cell_type": "code",
   "execution_count": 6,
   "metadata": {},
   "outputs": [],
   "source": [
    "for file in fullstats[1:]:\n",
    "    newdf = pd.read_csv(os.path.join(cwd, 'data', file))\n",
    "    newdf['line'] = file[:4]\n",
    "    newdf['timepoint'] = file[5:6]\n",
    "    newdf['mouse'] = file[:12]\n",
    "    newdf['channel'] = file[-13:-10]\n",
    "    newdf.drop(columns=['Min', 'Mean', 'Max', ' '], inplace=True)\n",
    "    df = df.append(newdf)"
   ]
  },
  {
   "cell_type": "code",
   "execution_count": null,
   "metadata": {},
   "outputs": [],
   "source": []
  },
  {
   "cell_type": "code",
   "execution_count": null,
   "metadata": {},
   "outputs": [],
   "source": []
  },
  {
   "cell_type": "code",
   "execution_count": null,
   "metadata": {},
   "outputs": [],
   "source": []
  },
  {
   "cell_type": "code",
   "execution_count": 10,
   "metadata": {},
   "outputs": [],
   "source": [
    "df.to_csv('unfiltered_dataframe.csv')"
   ]
  },
  {
   "cell_type": "code",
   "execution_count": 11,
   "metadata": {},
   "outputs": [],
   "source": [
    "good_size = df[(df.Area > 12) & (df.Area < 100)]"
   ]
  },
  {
   "cell_type": "code",
   "execution_count": 12,
   "metadata": {},
   "outputs": [],
   "source": [
    "good_size.to_csv('filtered_dataframe.csv')"
   ]
  },
  {
   "cell_type": "code",
   "execution_count": 13,
   "metadata": {},
   "outputs": [
    {
     "name": "stdout",
     "output_type": "stream",
     "text": [
      "(472171, 5)\n",
      "(361911, 5)\n"
     ]
    }
   ],
   "source": [
    "print(df.shape)\n",
    "print(good_size.shape)"
   ]
  },
  {
   "cell_type": "code",
   "execution_count": 14,
   "metadata": {},
   "outputs": [
    {
     "data": {
      "text/plain": [
       "line  timepoint  channel\n",
       "mcat  3          mko          8559\n",
       "                 tfp         16934\n",
       "                 yfp          8715\n",
       "      8          mko          7587\n",
       "                 tfp         14786\n",
       "                 yfp          1105\n",
       "robo  3          mko          3949\n",
       "                 tfp          7274\n",
       "                 yfp          6371\n",
       "      8          mko         10372\n",
       "                 tfp        226360\n",
       "                 yfp         49899\n",
       "Name: Area, dtype: int64"
      ]
     },
     "execution_count": 14,
     "metadata": {},
     "output_type": "execute_result"
    }
   ],
   "source": [
    "good_size.groupby(['line', 'timepoint', 'channel']).count().Area"
   ]
  },
  {
   "cell_type": "code",
   "execution_count": 16,
   "metadata": {},
   "outputs": [],
   "source": [
    "size_file = [i for i in datafiles if i.endswith('size.csv')]\n",
    "size = pd.read_csv('./data/' + size_file[0])\n",
    "size['line'] = size_file[0][:4]\n",
    "size['timepoint'] = size_file[0][5:6]\n",
    "size['mouse'] = size_file[0][:12]"
   ]
  },
  {
   "cell_type": "code",
   "execution_count": 17,
   "metadata": {},
   "outputs": [],
   "source": [
    "for file in size_file[1:]:\n",
    "    newdf = pd.read_csv(os.path.join(cwd, 'data', file))\n",
    "    newdf['line'] = file[:4]\n",
    "    newdf['timepoint'] = file[5:6]\n",
    "    newdf['mouse'] = file[:12]\n",
    "#    newdf.drop(columns=['Slice', 'Count', 'Average Size', '\\%Area', 'Mean'], inplace=True)\n",
    "    size = size.append(newdf)"
   ]
  },
  {
   "cell_type": "code",
   "execution_count": 18,
   "metadata": {},
   "outputs": [],
   "source": [
    "size.drop(columns=['Slice','Count', 'Average Size', '%Area', 'Mean'], inplace=True)\n",
    "size.reset_index(inplace=True, drop=True)\n",
    "size.set_index(keys='mouse', inplace=True)"
   ]
  },
  {
   "cell_type": "code",
   "execution_count": 19,
   "metadata": {},
   "outputs": [],
   "source": [
    "size.to_csv('slice_areas.csv')"
   ]
  },
  {
   "cell_type": "code",
   "execution_count": 20,
   "metadata": {},
   "outputs": [],
   "source": [
    "mousecount = good_size.groupby(['mouse', 'channel']).count().Area\n",
    "mousecount = mousecount.unstack()\n",
    "mousecount = mousecount.merge(size, on='mouse')\n",
    "mousecount['mko_c'] = mousecount['mko']/mousecount['Total Area']\n",
    "mousecount['yfp_c'] = mousecount['yfp']/mousecount['Total Area']\n",
    "mousecount['tfp_c'] = mousecount['tfp']/mousecount['Total Area']\n",
    "mousecount.to_csv('full_count.csv')\n",
    "avgmouse = mousecount.groupby(['line', 'timepoint']).mean()\n",
    "avgmouse.reset_index(inplace=True)\n",
    "avgmouse.set_index(avgmouse.line.str.cat(avgmouse.timepoint.str), inplace=True, drop=True)\n",
    "collist = avgmouse.columns.tolist()\n",
    "collist = [collist[3], collist[4], collist[2], collist[-1], collist[-2], collist[-3]]\n",
    "avgmouse = avgmouse[collist]"
   ]
  },
  {
   "cell_type": "code",
   "execution_count": 21,
   "metadata": {},
   "outputs": [
    {
     "data": {
      "text/plain": [
       "Text(0.5, 1.0, 'Ratio of 8 week to 3 day counts RMCAT')"
      ]
     },
     "execution_count": 21,
     "metadata": {},
     "output_type": "execute_result"
    }
   ],
   "source": [
    "(avgmouse.iloc[1]/avgmouse.iloc[0]).plot(kind='bar')\n",
    "plt.title('Ratio of 8 week to 3 day counts RMCAT')"
   ]
  },
  {
   "cell_type": "code",
   "execution_count": 22,
   "metadata": {},
   "outputs": [
    {
     "data": {
      "text/plain": [
       "Text(0.5, 1.0, 'Ratio of 8 week to 3 day counts RRobo')"
      ]
     },
     "execution_count": 22,
     "metadata": {},
     "output_type": "execute_result"
    }
   ],
   "source": [
    "(avgmouse.iloc[3]/avgmouse.iloc[2]).plot(kind='bar')\n",
    "plt.title('Ratio of 8 week to 3 day counts RRobo')"
   ]
  },
  {
   "cell_type": "code",
   "execution_count": null,
   "metadata": {},
   "outputs": [],
   "source": [
    "avgmouse['total'] = avgmouse.tfp + avgmouse.mko + avgmouse.yfp\n",
    "avgmouse['total_c'] = avgmouse.tfp_c + avgmouse.yfp_c + avgmouse.mko_c"
   ]
  },
  {
   "cell_type": "code",
   "execution_count": null,
   "metadata": {},
   "outputs": [],
   "source": [
    "(avgmouse.tfp_c/avgmouse.total_c).plot(kind='bar')\n",
    "plt.xticks(rotation=45)\n",
    "plt.title('Ratio of TFP')"
   ]
  },
  {
   "cell_type": "code",
   "execution_count": null,
   "metadata": {},
   "outputs": [],
   "source": [
    "(avgmouse.mko_c/avgmouse.total_c).plot(kind='bar')\n",
    "plt.xticks(rotation=45)\n",
    "plt.title('Ratio of MKO')"
   ]
  },
  {
   "cell_type": "code",
   "execution_count": null,
   "metadata": {},
   "outputs": [],
   "source": [
    "(avgmouse.yfp_c/avgmouse.total_c).plot(kind='bar')\n",
    "plt.xticks(rotation=45)\n",
    "plt.title('Ratio of YFP')"
   ]
  },
  {
   "cell_type": "code",
   "execution_count": null,
   "metadata": {},
   "outputs": [],
   "source": []
  },
  {
   "cell_type": "code",
   "execution_count": null,
   "metadata": {},
   "outputs": [],
   "source": []
  },
  {
   "cell_type": "code",
   "execution_count": null,
   "metadata": {},
   "outputs": [],
   "source": [
    "avgmouse.yfp_corrected/avgmouse.total_corrected"
   ]
  },
  {
   "cell_type": "code",
   "execution_count": null,
   "metadata": {},
   "outputs": [],
   "source": [
    "avgmouse.mko_corrected/avgmouse.total_corrected"
   ]
  },
  {
   "cell_type": "code",
   "execution_count": null,
   "metadata": {},
   "outputs": [],
   "source": []
  }
 ],
 "metadata": {
  "kernelspec": {
   "display_name": "Python 3",
   "language": "python",
   "name": "python3"
  },
  "language_info": {
   "codemirror_mode": {
    "name": "ipython",
    "version": 3
   },
   "file_extension": ".py",
   "mimetype": "text/x-python",
   "name": "python",
   "nbconvert_exporter": "python",
   "pygments_lexer": "ipython3",
   "version": "3.6.5"
  }
 },
 "nbformat": 4,
 "nbformat_minor": 2
}
